{
  "nbformat": 4,
  "nbformat_minor": 0,
  "metadata": {
    "colab": {
      "name": "Pathlib.ipynb",
      "version": "0.3.2",
      "provenance": [],
      "include_colab_link": true
    },
    "kernelspec": {
      "name": "python3",
      "display_name": "Python 3"
    },
    "accelerator": "TPU"
  },
  "cells": [
    {
      "cell_type": "markdown",
      "metadata": {
        "id": "view-in-github",
        "colab_type": "text"
      },
      "source": [
        "<a href=\"https://colab.research.google.com/github/Suyashsudhir2695/ML_and_tensorflow/blob/master/Pathlib.ipynb\" target=\"_parent\"><img src=\"https://colab.research.google.com/assets/colab-badge.svg\" alt=\"Open In Colab\"/></a>"
      ]
    },
    {
      "cell_type": "markdown",
      "metadata": {
        "id": "gESTkRNW8Mud",
        "colab_type": "text"
      },
      "source": [
        "# **Model training and Prediction**\n",
        "\n",
        "\n",
        "1.   Get the data and store it in **data_root_orig** and get the path of the directories\n",
        "2.   For each category in **CATAGORIES** get the path of data\n",
        "3.   Read the path of the image and turn it to GRAYSCALE and keep appending resized image array\n",
        "4.   Save the labels and features(such as pixels, etc. ) in a file for later use\n",
        "\n"
      ]
    },
    {
      "cell_type": "code",
      "metadata": {
        "id": "0KLSlIBqtasH",
        "colab_type": "code",
        "outputId": "98ab51f1-0c4f-42db-c822-05652550219a",
        "colab": {
          "base_uri": "https://localhost:8080/",
          "height": 388
        }
      },
      "source": [
        "import tensorflow as tf\n",
        "import cv2\n",
        "import numpy as np\n",
        "import os\n",
        "import matplotlib.pyplot as plt\n",
        "from tqdm import tqdm as tq\n",
        "import pickle\n",
        "import random\n",
        "import pathlib\n",
        "\n",
        "\n",
        "\n",
        "data_root_orig = tf.keras.utils.get_file('flower_photos',\n",
        "                                         'https://storage.googleapis.com/download.tensorflow.org/example_images/flower_photos.tgz',\n",
        "                                         untar=True)\n",
        "data_root = pathlib.Path(data_root_orig)\n",
        "print(data_root)\n",
        "os.listdir(data_root)\n",
        "\n",
        "CATAGORIES = ['tulips', 'roses', 'sunflowers', 'daisy',  'dandelion']\n",
        "X = []\n",
        "y = []\n",
        "\n",
        "training_data = []\n",
        "IMG_SIZE = 50\n",
        "def create_training_data():\n",
        "    global img_arr\n",
        "    global new_img_arr\n",
        "    for cat in CATAGORIES:\n",
        "        path = os.path.join(data_root, cat)\n",
        "        class_num = CATAGORIES.index(cat)\n",
        "\n",
        "        for img in tq(os.listdir(path)):\n",
        "            try:\n",
        "                img_arr = cv2.imread(os.path.join(path, img), cv2.IMREAD_GRAYSCALE)\n",
        "                new_img_arr = cv2.resize(img_arr, (IMG_SIZE, IMG_SIZE))\n",
        "                training_data.append([new_img_arr,class_num])\n",
        "            except Exception as e:\n",
        "                pass\n",
        "            # plt.imshow(img_arr,cmap=\"gray\")\n",
        "            # plt.show()\n",
        "\n",
        "\n",
        "create_training_data()\n",
        "\n",
        "\n",
        "for features, labels in training_data:\n",
        "    X.append(features)\n",
        "    y.append(labels)\n",
        "\n",
        "pickle_out = open(\"X.pickle\",\"wb\")\n",
        "pickle.dump(X, pickle_out)\n",
        "pickle_out.close()\n",
        "\n",
        "pickle_out = open(\"y.pickle\",\"wb\")\n",
        "pickle.dump(y, pickle_out)\n",
        "pickle_out.close()\n",
        "\n",
        "\n",
        "pickle_in = open(\"X.pickle\",\"rb\")\n",
        "X = pickle.load(pickle_in)\n",
        "\n",
        "pickle_in = open(\"y.pickle\",\"rb\")\n",
        "y = pickle.load(pickle_in)\n",
        "\n",
        "\n",
        "\n",
        "\n",
        "\n",
        "\n",
        "\n",
        "\n",
        "\n",
        "\n",
        "\n",
        "\n",
        "\n",
        "\n",
        "\n",
        "\n",
        "\n",
        "\n",
        "\n",
        "\n"
      ],
      "execution_count": 0,
      "outputs": [
        {
          "output_type": "stream",
          "text": [
            "  7%|▋         | 55/799 [00:00<00:01, 548.33it/s]"
          ],
          "name": "stderr"
        },
        {
          "output_type": "stream",
          "text": [
            "/root/.keras/datasets/flower_photos\n"
          ],
          "name": "stdout"
        },
        {
          "output_type": "stream",
          "text": [
            "100%|██████████| 799/799 [00:01<00:00, 598.00it/s]\n",
            "100%|██████████| 641/641 [00:00<00:00, 646.72it/s]\n",
            "100%|██████████| 699/699 [00:01<00:00, 568.00it/s]\n",
            "100%|██████████| 633/633 [00:00<00:00, 723.37it/s]\n",
            "100%|██████████| 898/898 [00:01<00:00, 717.10it/s]\n"
          ],
          "name": "stderr"
        },
        {
          "output_type": "display_data",
          "data": {
            "image/png": "[encoded data removed]",
            "text/plain": [
              "<Figure size 432x288 with 1 Axes>"
            ]
          },
          "metadata": {
            "tags": []
          }
        },
        {
          "output_type": "stream",
          "text": [
            "3670\n"
          ],
          "name": "stdout"
        }
      ]
    },
    {
      "cell_type": "code",
      "metadata": {
        "id": "7onFVO8YBHSR",
        "colab_type": "code",
        "colab": {}
      },
      "source": [
        ""
      ],
      "execution_count": 0,
      "outputs": []
    },
    {
      "cell_type": "markdown",
      "metadata": {
        "id": "PxIVYGBO-RLs",
        "colab_type": "text"
      },
      "source": [
        "\n",
        "\n",
        "1.   Load the data previously saved data in python lists\n",
        "2.   Reshape **X** after converting it to numpy array and scale it in the range [0,1]\n",
        "3.   initialize a model to train\n",
        "and add layers to it by configuring its activation and pooling function\n",
        "4. Create another layer which is densly connected to prevoius layer\n",
        "5. Compile the model by configuring its optimizer , loss and metrics function\n",
        "\n",
        "***optimizer***: This object specifies the training procedure. Pass it optimizer instances from the tf.train module, such as tf.train.AdamOptimizer, tf.train.RMSPropOptimizer, or tf.train.GradientDescentOptimizer.\n",
        "\n",
        "***loss***: The function to minimize during optimization. Common choices include mean square error (mse), categorical_crossentropy, and binary_crossentropy. Loss functions are specified by name or by passing a callable object from the tf.keras.losses module.\n",
        "\n",
        "***metrics***: Used to monitor training. These are string names or callables from the tf.keras.metrics module.\n",
        "\n",
        "***epochs***: number of times the model should train\n",
        "\n"
      ]
    },
    {
      "cell_type": "code",
      "metadata": {
        "id": "jRcScrolvV7D",
        "colab_type": "code",
        "colab": {
          "base_uri": "https://localhost:8080/",
          "height": 136
        },
        "outputId": "5ef3d9d9-85fd-4f40-d59a-ee9436b87906"
      },
      "source": [
        "import numpy as np\n",
        "from tensorflow.python.keras.layers import Dropout, Dense, Flatten, Activation, Conv2D, MaxPooling2D\n",
        "from tensorflow.python.keras.datasets import cifar10\n",
        "from tensorflow.python.keras.preprocessing.image import ImageDataGenerator\n",
        "from tensorflow.python.keras.models import Sequential\n",
        "\n",
        "pickle_in = open(\"X.pickle\",\"rb\")\n",
        "X = pickle.load(pickle_in)\n",
        "X = np.array(X).reshape(-1, IMG_SIZE, IMG_SIZE, 1)\n",
        "\n",
        "\n",
        "pickle_in = open(\"y.pickle\",\"rb\")\n",
        "y = pickle.load(pickle_in)\n",
        "\n",
        "X = X / 255.0\n",
        "\n",
        "model = Sequential()\n",
        "\n",
        "model.add(Conv2D(256,(3,3), input_shape=X.shape[1:]))\n",
        "model.add(Activation('relu'))\n",
        "model.add(MaxPooling2D(pool_size=(2,2)))\n",
        "\n",
        "model.add(Conv2D(256,(3,3)))\n",
        "model.add(Activation('relu'))\n",
        "model.add(MaxPooling2D(pool_size=(2,2)))\n",
        "\n",
        "model.add(Flatten())\n",
        "\n",
        "model.add(Dense(64))\n",
        "model.add(Dense(1))\n",
        "model.add(Activation('sigmoid'))\n",
        "\n",
        "\n",
        "model.compile(\n",
        "    optimizer='adam',\n",
        "    loss='binary_crossentropy',\n",
        "    metrics=['accuracy']\n",
        ")\n",
        "model.fit(X,y, batch_size=32, epochs=3)\n",
        "\n",
        "\n",
        "\n",
        "\n",
        "\n",
        "\n",
        "\n"
      ],
      "execution_count": 26,
      "outputs": [
        {
          "output_type": "stream",
          "text": [
            "Epoch 1/3\n",
            "3670/3670 [==============================] - 144s 39ms/sample - loss: -5401430.0065 - acc: 0.1747\n",
            "Epoch 2/3\n",
            "3670/3670 [==============================] - 143s 39ms/sample - loss: -283828774.7313 - acc: 0.1747\n",
            "Epoch 3/3\n",
            "3670/3670 [==============================] - 143s 39ms/sample - loss: -2500249463.6992 - acc: 0.1747\n"
          ],
          "name": "stdout"
        },
        {
          "output_type": "execute_result",
          "data": {
            "text/plain": [
              "<tensorflow.python.keras.callbacks.History at 0x7f5f04610c18>"
            ]
          },
          "metadata": {
            "tags": []
          },
          "execution_count": 26
        }
      ]
    }
  ]
}